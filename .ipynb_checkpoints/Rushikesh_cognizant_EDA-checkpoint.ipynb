{
 "cells": [
  {
   "cell_type": "code",
   "execution_count": 1,
   "id": "e952c0a6-6006-4abc-880a-2df1a39827fb",
   "metadata": {},
   "outputs": [],
   "source": [
    "import numpy as np\n",
    "import pandas as pd\n",
    "from matplotlib import pyplot as plt\n",
    "import seaborn as sns"
   ]
  },
  {
   "cell_type": "code",
   "execution_count": 3,
   "id": "101e5e43-09f9-44f6-b93e-2af4625c7eac",
   "metadata": {},
   "outputs": [],
   "source": [
    "df = pd.read_csv('bank1.csv')"
   ]
  },
  {
   "cell_type": "code",
   "execution_count": 4,
   "id": "48cec0be-9c2b-46b3-a735-aa6fb3c08bb0",
   "metadata": {},
   "outputs": [
    {
     "data": {
      "text/html": [
       "<div>\n",
       "<style scoped>\n",
       "    .dataframe tbody tr th:only-of-type {\n",
       "        vertical-align: middle;\n",
       "    }\n",
       "\n",
       "    .dataframe tbody tr th {\n",
       "        vertical-align: top;\n",
       "    }\n",
       "\n",
       "    .dataframe thead th {\n",
       "        text-align: right;\n",
       "    }\n",
       "</style>\n",
       "<table border=\"1\" class=\"dataframe\">\n",
       "  <thead>\n",
       "    <tr style=\"text-align: right;\">\n",
       "      <th></th>\n",
       "      <th>CustomerID</th>\n",
       "      <th>Age</th>\n",
       "      <th>Gender</th>\n",
       "      <th>Income</th>\n",
       "      <th>AccountBalance</th>\n",
       "      <th>TransactionsLastMonth</th>\n",
       "      <th>Loans</th>\n",
       "      <th>CreditScore</th>\n",
       "      <th>Tenure</th>\n",
       "      <th>BranchRegion</th>\n",
       "      <th>MaritalStatus</th>\n",
       "      <th>PreferredChannel</th>\n",
       "      <th>LastTransactionDate</th>\n",
       "      <th>AvgTransactionValue</th>\n",
       "      <th>ProductHolding</th>\n",
       "    </tr>\n",
       "  </thead>\n",
       "  <tbody>\n",
       "    <tr>\n",
       "      <th>0</th>\n",
       "      <td>1</td>\n",
       "      <td>56</td>\n",
       "      <td>M</td>\n",
       "      <td>102421.0</td>\n",
       "      <td>93590.0</td>\n",
       "      <td>19</td>\n",
       "      <td>1</td>\n",
       "      <td>394</td>\n",
       "      <td>10</td>\n",
       "      <td>West</td>\n",
       "      <td>Married</td>\n",
       "      <td>Online</td>\n",
       "      <td>2024-02-19</td>\n",
       "      <td>337.58</td>\n",
       "      <td>1</td>\n",
       "    </tr>\n",
       "    <tr>\n",
       "      <th>1</th>\n",
       "      <td>2</td>\n",
       "      <td>69</td>\n",
       "      <td>F</td>\n",
       "      <td>NaN</td>\n",
       "      <td>86612.0</td>\n",
       "      <td>48</td>\n",
       "      <td>4</td>\n",
       "      <td>568</td>\n",
       "      <td>1</td>\n",
       "      <td>East</td>\n",
       "      <td>Single</td>\n",
       "      <td>In-Branch</td>\n",
       "      <td>2024-03-14</td>\n",
       "      <td>913.94</td>\n",
       "      <td>3</td>\n",
       "    </tr>\n",
       "    <tr>\n",
       "      <th>2</th>\n",
       "      <td>3</td>\n",
       "      <td>46</td>\n",
       "      <td>F</td>\n",
       "      <td>85584.0</td>\n",
       "      <td>80522.0</td>\n",
       "      <td>13</td>\n",
       "      <td>2</td>\n",
       "      <td>660</td>\n",
       "      <td>5</td>\n",
       "      <td>West</td>\n",
       "      <td>Single</td>\n",
       "      <td>Online</td>\n",
       "      <td>2024-04-21</td>\n",
       "      <td>116.06</td>\n",
       "      <td>1</td>\n",
       "    </tr>\n",
       "    <tr>\n",
       "      <th>3</th>\n",
       "      <td>4</td>\n",
       "      <td>32</td>\n",
       "      <td>M</td>\n",
       "      <td>39950.0</td>\n",
       "      <td>14440.0</td>\n",
       "      <td>45</td>\n",
       "      <td>1</td>\n",
       "      <td>829</td>\n",
       "      <td>11</td>\n",
       "      <td>East</td>\n",
       "      <td>Single</td>\n",
       "      <td>Mobile App</td>\n",
       "      <td>2024-03-07</td>\n",
       "      <td>746.48</td>\n",
       "      <td>1</td>\n",
       "    </tr>\n",
       "    <tr>\n",
       "      <th>4</th>\n",
       "      <td>5</td>\n",
       "      <td>60</td>\n",
       "      <td>M</td>\n",
       "      <td>35173.0</td>\n",
       "      <td>7960.0</td>\n",
       "      <td>34</td>\n",
       "      <td>4</td>\n",
       "      <td>461</td>\n",
       "      <td>9</td>\n",
       "      <td>North</td>\n",
       "      <td>Married</td>\n",
       "      <td>Mobile App</td>\n",
       "      <td>2024-01-13</td>\n",
       "      <td>583.56</td>\n",
       "      <td>3</td>\n",
       "    </tr>\n",
       "    <tr>\n",
       "      <th>...</th>\n",
       "      <td>...</td>\n",
       "      <td>...</td>\n",
       "      <td>...</td>\n",
       "      <td>...</td>\n",
       "      <td>...</td>\n",
       "      <td>...</td>\n",
       "      <td>...</td>\n",
       "      <td>...</td>\n",
       "      <td>...</td>\n",
       "      <td>...</td>\n",
       "      <td>...</td>\n",
       "      <td>...</td>\n",
       "      <td>...</td>\n",
       "      <td>...</td>\n",
       "      <td>...</td>\n",
       "    </tr>\n",
       "    <tr>\n",
       "      <th>4995</th>\n",
       "      <td>4996</td>\n",
       "      <td>24</td>\n",
       "      <td>M</td>\n",
       "      <td>97711.0</td>\n",
       "      <td>42889.0</td>\n",
       "      <td>31</td>\n",
       "      <td>0</td>\n",
       "      <td>407</td>\n",
       "      <td>18</td>\n",
       "      <td>East</td>\n",
       "      <td>Single</td>\n",
       "      <td>Online</td>\n",
       "      <td>2024-01-21</td>\n",
       "      <td>306.28</td>\n",
       "      <td>1</td>\n",
       "    </tr>\n",
       "    <tr>\n",
       "      <th>4996</th>\n",
       "      <td>4997</td>\n",
       "      <td>66</td>\n",
       "      <td>F</td>\n",
       "      <td>77141.0</td>\n",
       "      <td>14633.0</td>\n",
       "      <td>32</td>\n",
       "      <td>0</td>\n",
       "      <td>623</td>\n",
       "      <td>4</td>\n",
       "      <td>North</td>\n",
       "      <td>Married</td>\n",
       "      <td>In-Branch</td>\n",
       "      <td>2023-11-04</td>\n",
       "      <td>307.20</td>\n",
       "      <td>4</td>\n",
       "    </tr>\n",
       "    <tr>\n",
       "      <th>4997</th>\n",
       "      <td>4998</td>\n",
       "      <td>26</td>\n",
       "      <td>F</td>\n",
       "      <td>98232.0</td>\n",
       "      <td>62244.0</td>\n",
       "      <td>12</td>\n",
       "      <td>2</td>\n",
       "      <td>830</td>\n",
       "      <td>16</td>\n",
       "      <td>East</td>\n",
       "      <td>Single</td>\n",
       "      <td>Online</td>\n",
       "      <td>2024-05-03</td>\n",
       "      <td>992.05</td>\n",
       "      <td>3</td>\n",
       "    </tr>\n",
       "    <tr>\n",
       "      <th>4998</th>\n",
       "      <td>4999</td>\n",
       "      <td>53</td>\n",
       "      <td>F</td>\n",
       "      <td>59023.0</td>\n",
       "      <td>19163.0</td>\n",
       "      <td>26</td>\n",
       "      <td>0</td>\n",
       "      <td>403</td>\n",
       "      <td>11</td>\n",
       "      <td>South</td>\n",
       "      <td>Married</td>\n",
       "      <td>In-Branch</td>\n",
       "      <td>2023-11-13</td>\n",
       "      <td>332.94</td>\n",
       "      <td>1</td>\n",
       "    </tr>\n",
       "    <tr>\n",
       "      <th>4999</th>\n",
       "      <td>5000</td>\n",
       "      <td>36</td>\n",
       "      <td>F</td>\n",
       "      <td>60209.0</td>\n",
       "      <td>59019.0</td>\n",
       "      <td>17</td>\n",
       "      <td>4</td>\n",
       "      <td>631</td>\n",
       "      <td>18</td>\n",
       "      <td>North</td>\n",
       "      <td>Married</td>\n",
       "      <td>Online</td>\n",
       "      <td>2023-09-11</td>\n",
       "      <td>213.13</td>\n",
       "      <td>4</td>\n",
       "    </tr>\n",
       "  </tbody>\n",
       "</table>\n",
       "<p>5000 rows × 15 columns</p>\n",
       "</div>"
      ],
      "text/plain": [
       "      CustomerID  Age Gender    Income  AccountBalance  TransactionsLastMonth  \\\n",
       "0              1   56      M  102421.0         93590.0                     19   \n",
       "1              2   69      F       NaN         86612.0                     48   \n",
       "2              3   46      F   85584.0         80522.0                     13   \n",
       "3              4   32      M   39950.0         14440.0                     45   \n",
       "4              5   60      M   35173.0          7960.0                     34   \n",
       "...          ...  ...    ...       ...             ...                    ...   \n",
       "4995        4996   24      M   97711.0         42889.0                     31   \n",
       "4996        4997   66      F   77141.0         14633.0                     32   \n",
       "4997        4998   26      F   98232.0         62244.0                     12   \n",
       "4998        4999   53      F   59023.0         19163.0                     26   \n",
       "4999        5000   36      F   60209.0         59019.0                     17   \n",
       "\n",
       "      Loans  CreditScore  Tenure BranchRegion MaritalStatus PreferredChannel  \\\n",
       "0         1          394      10         West       Married           Online   \n",
       "1         4          568       1         East        Single        In-Branch   \n",
       "2         2          660       5         West        Single           Online   \n",
       "3         1          829      11         East        Single       Mobile App   \n",
       "4         4          461       9        North       Married       Mobile App   \n",
       "...     ...          ...     ...          ...           ...              ...   \n",
       "4995      0          407      18         East        Single           Online   \n",
       "4996      0          623       4        North       Married        In-Branch   \n",
       "4997      2          830      16         East        Single           Online   \n",
       "4998      0          403      11        South       Married        In-Branch   \n",
       "4999      4          631      18        North       Married           Online   \n",
       "\n",
       "     LastTransactionDate  AvgTransactionValue  ProductHolding  \n",
       "0             2024-02-19               337.58               1  \n",
       "1             2024-03-14               913.94               3  \n",
       "2             2024-04-21               116.06               1  \n",
       "3             2024-03-07               746.48               1  \n",
       "4             2024-01-13               583.56               3  \n",
       "...                  ...                  ...             ...  \n",
       "4995          2024-01-21               306.28               1  \n",
       "4996          2023-11-04               307.20               4  \n",
       "4997          2024-05-03               992.05               3  \n",
       "4998          2023-11-13               332.94               1  \n",
       "4999          2023-09-11               213.13               4  \n",
       "\n",
       "[5000 rows x 15 columns]"
      ]
     },
     "execution_count": 4,
     "metadata": {},
     "output_type": "execute_result"
    }
   ],
   "source": [
    "df"
   ]
  },
  {
   "cell_type": "code",
   "execution_count": 5,
   "id": "93c6d534-8725-4365-8f68-0a6bdd291646",
   "metadata": {},
   "outputs": [
    {
     "data": {
      "text/html": [
       "<div>\n",
       "<style scoped>\n",
       "    .dataframe tbody tr th:only-of-type {\n",
       "        vertical-align: middle;\n",
       "    }\n",
       "\n",
       "    .dataframe tbody tr th {\n",
       "        vertical-align: top;\n",
       "    }\n",
       "\n",
       "    .dataframe thead th {\n",
       "        text-align: right;\n",
       "    }\n",
       "</style>\n",
       "<table border=\"1\" class=\"dataframe\">\n",
       "  <thead>\n",
       "    <tr style=\"text-align: right;\">\n",
       "      <th></th>\n",
       "      <th>CustomerID</th>\n",
       "      <th>Age</th>\n",
       "      <th>Income</th>\n",
       "      <th>AccountBalance</th>\n",
       "      <th>TransactionsLastMonth</th>\n",
       "      <th>Loans</th>\n",
       "      <th>CreditScore</th>\n",
       "      <th>Tenure</th>\n",
       "      <th>AvgTransactionValue</th>\n",
       "      <th>ProductHolding</th>\n",
       "    </tr>\n",
       "  </thead>\n",
       "  <tbody>\n",
       "    <tr>\n",
       "      <th>count</th>\n",
       "      <td>5000.000000</td>\n",
       "      <td>5000.000000</td>\n",
       "      <td>4.750000e+03</td>\n",
       "      <td>4750.000000</td>\n",
       "      <td>5000.000000</td>\n",
       "      <td>5000.000000</td>\n",
       "      <td>5000.000000</td>\n",
       "      <td>5000.000000</td>\n",
       "      <td>5000.00000</td>\n",
       "      <td>5000.000000</td>\n",
       "    </tr>\n",
       "    <tr>\n",
       "      <th>mean</th>\n",
       "      <td>2500.500000</td>\n",
       "      <td>43.584600</td>\n",
       "      <td>9.049629e+04</td>\n",
       "      <td>53036.984842</td>\n",
       "      <td>24.449400</td>\n",
       "      <td>1.983000</td>\n",
       "      <td>580.168200</td>\n",
       "      <td>10.070200</td>\n",
       "      <td>504.15966</td>\n",
       "      <td>2.480800</td>\n",
       "    </tr>\n",
       "    <tr>\n",
       "      <th>std</th>\n",
       "      <td>1443.520003</td>\n",
       "      <td>14.919094</td>\n",
       "      <td>6.930436e+04</td>\n",
       "      <td>53127.631583</td>\n",
       "      <td>14.567604</td>\n",
       "      <td>1.416444</td>\n",
       "      <td>158.571989</td>\n",
       "      <td>5.419035</td>\n",
       "      <td>287.44626</td>\n",
       "      <td>1.121732</td>\n",
       "    </tr>\n",
       "    <tr>\n",
       "      <th>min</th>\n",
       "      <td>1.000000</td>\n",
       "      <td>18.000000</td>\n",
       "      <td>2.000200e+04</td>\n",
       "      <td>5.000000</td>\n",
       "      <td>0.000000</td>\n",
       "      <td>0.000000</td>\n",
       "      <td>300.000000</td>\n",
       "      <td>1.000000</td>\n",
       "      <td>10.18000</td>\n",
       "      <td>1.000000</td>\n",
       "    </tr>\n",
       "    <tr>\n",
       "      <th>25%</th>\n",
       "      <td>1250.750000</td>\n",
       "      <td>31.000000</td>\n",
       "      <td>5.281625e+04</td>\n",
       "      <td>24117.250000</td>\n",
       "      <td>12.000000</td>\n",
       "      <td>1.000000</td>\n",
       "      <td>442.000000</td>\n",
       "      <td>5.000000</td>\n",
       "      <td>257.15750</td>\n",
       "      <td>1.000000</td>\n",
       "    </tr>\n",
       "    <tr>\n",
       "      <th>50%</th>\n",
       "      <td>2500.500000</td>\n",
       "      <td>43.000000</td>\n",
       "      <td>8.699400e+04</td>\n",
       "      <td>50067.000000</td>\n",
       "      <td>24.000000</td>\n",
       "      <td>2.000000</td>\n",
       "      <td>584.000000</td>\n",
       "      <td>10.000000</td>\n",
       "      <td>501.58500</td>\n",
       "      <td>2.000000</td>\n",
       "    </tr>\n",
       "    <tr>\n",
       "      <th>75%</th>\n",
       "      <td>3750.250000</td>\n",
       "      <td>56.000000</td>\n",
       "      <td>1.193218e+05</td>\n",
       "      <td>75123.000000</td>\n",
       "      <td>37.000000</td>\n",
       "      <td>3.000000</td>\n",
       "      <td>716.000000</td>\n",
       "      <td>15.000000</td>\n",
       "      <td>754.70000</td>\n",
       "      <td>3.000000</td>\n",
       "    </tr>\n",
       "    <tr>\n",
       "      <th>max</th>\n",
       "      <td>5000.000000</td>\n",
       "      <td>69.000000</td>\n",
       "      <td>1.282104e+06</td>\n",
       "      <td>885447.000000</td>\n",
       "      <td>49.000000</td>\n",
       "      <td>4.000000</td>\n",
       "      <td>849.000000</td>\n",
       "      <td>19.000000</td>\n",
       "      <td>999.28000</td>\n",
       "      <td>4.000000</td>\n",
       "    </tr>\n",
       "  </tbody>\n",
       "</table>\n",
       "</div>"
      ],
      "text/plain": [
       "        CustomerID          Age        Income  AccountBalance  \\\n",
       "count  5000.000000  5000.000000  4.750000e+03     4750.000000   \n",
       "mean   2500.500000    43.584600  9.049629e+04    53036.984842   \n",
       "std    1443.520003    14.919094  6.930436e+04    53127.631583   \n",
       "min       1.000000    18.000000  2.000200e+04        5.000000   \n",
       "25%    1250.750000    31.000000  5.281625e+04    24117.250000   \n",
       "50%    2500.500000    43.000000  8.699400e+04    50067.000000   \n",
       "75%    3750.250000    56.000000  1.193218e+05    75123.000000   \n",
       "max    5000.000000    69.000000  1.282104e+06   885447.000000   \n",
       "\n",
       "       TransactionsLastMonth        Loans  CreditScore       Tenure  \\\n",
       "count            5000.000000  5000.000000  5000.000000  5000.000000   \n",
       "mean               24.449400     1.983000   580.168200    10.070200   \n",
       "std                14.567604     1.416444   158.571989     5.419035   \n",
       "min                 0.000000     0.000000   300.000000     1.000000   \n",
       "25%                12.000000     1.000000   442.000000     5.000000   \n",
       "50%                24.000000     2.000000   584.000000    10.000000   \n",
       "75%                37.000000     3.000000   716.000000    15.000000   \n",
       "max                49.000000     4.000000   849.000000    19.000000   \n",
       "\n",
       "       AvgTransactionValue  ProductHolding  \n",
       "count           5000.00000     5000.000000  \n",
       "mean             504.15966        2.480800  \n",
       "std              287.44626        1.121732  \n",
       "min               10.18000        1.000000  \n",
       "25%              257.15750        1.000000  \n",
       "50%              501.58500        2.000000  \n",
       "75%              754.70000        3.000000  \n",
       "max              999.28000        4.000000  "
      ]
     },
     "execution_count": 5,
     "metadata": {},
     "output_type": "execute_result"
    }
   ],
   "source": [
    "df.describe()"
   ]
  },
  {
   "cell_type": "code",
   "execution_count": 6,
   "id": "c716bf9c-ae79-4c02-8ef8-6ae6353f79a4",
   "metadata": {},
   "outputs": [
    {
     "data": {
      "text/plain": [
       "CustomerID                 0\n",
       "Age                        0\n",
       "Gender                     0\n",
       "Income                   250\n",
       "AccountBalance           250\n",
       "TransactionsLastMonth      0\n",
       "Loans                      0\n",
       "CreditScore                0\n",
       "Tenure                     0\n",
       "BranchRegion               0\n",
       "MaritalStatus              0\n",
       "PreferredChannel           0\n",
       "LastTransactionDate        0\n",
       "AvgTransactionValue        0\n",
       "ProductHolding             0\n",
       "dtype: int64"
      ]
     },
     "execution_count": 6,
     "metadata": {},
     "output_type": "execute_result"
    }
   ],
   "source": [
    "df.isnull().sum()"
   ]
  },
  {
   "cell_type": "code",
   "execution_count": 7,
   "id": "1805a553-dda1-4774-97f6-2bdb7c87c5fe",
   "metadata": {},
   "outputs": [
    {
     "data": {
      "text/plain": [
       "0.05"
      ]
     },
     "execution_count": 7,
     "metadata": {},
     "output_type": "execute_result"
    }
   ],
   "source": [
    "df['Income'].isnull().sum()/len(df['Income'])"
   ]
  },
  {
   "cell_type": "code",
   "execution_count": 8,
   "id": "0c4f4ace-5fe6-49e2-90b6-dafa05a11b46",
   "metadata": {},
   "outputs": [
    {
     "data": {
      "text/plain": [
       "0.05"
      ]
     },
     "execution_count": 8,
     "metadata": {},
     "output_type": "execute_result"
    }
   ],
   "source": [
    "df['AccountBalance'].isnull().sum()/len(df['AccountBalance'])"
   ]
  },
  {
   "cell_type": "code",
   "execution_count": 9,
   "id": "1223a57d-9cc0-4df2-b6ef-60c24df782ae",
   "metadata": {},
   "outputs": [
    {
     "data": {
      "text/plain": [
       "90496.29410526316"
      ]
     },
     "execution_count": 9,
     "metadata": {},
     "output_type": "execute_result"
    }
   ],
   "source": [
    "df['Income'].mean()"
   ]
  },
  {
   "cell_type": "code",
   "execution_count": 10,
   "id": "cc378d43-354b-4677-b378-bdcfb6348f6f",
   "metadata": {},
   "outputs": [
    {
     "data": {
      "text/plain": [
       "53036.98484210527"
      ]
     },
     "execution_count": 10,
     "metadata": {},
     "output_type": "execute_result"
    }
   ],
   "source": [
    "df['AccountBalance'].mean()"
   ]
  },
  {
   "cell_type": "code",
   "execution_count": 13,
   "id": "cc2b7cd0-386d-460f-abab-c0dbec3e4997",
   "metadata": {},
   "outputs": [],
   "source": [
    "df['Income'].fillna(df['Income'].mean(),inplace=True)"
   ]
  },
  {
   "cell_type": "code",
   "execution_count": 16,
   "id": "55600c6c-2af5-42eb-9e77-fe61bca334f8",
   "metadata": {},
   "outputs": [],
   "source": [
    "df['AccountBalance'].fillna(df['AccountBalance'].mean(),inplace=True)"
   ]
  },
  {
   "cell_type": "code",
   "execution_count": 17,
   "id": "3b08612a-b9ee-4dd6-9ace-0d378f493de0",
   "metadata": {},
   "outputs": [
    {
     "data": {
      "text/html": [
       "<div>\n",
       "<style scoped>\n",
       "    .dataframe tbody tr th:only-of-type {\n",
       "        vertical-align: middle;\n",
       "    }\n",
       "\n",
       "    .dataframe tbody tr th {\n",
       "        vertical-align: top;\n",
       "    }\n",
       "\n",
       "    .dataframe thead th {\n",
       "        text-align: right;\n",
       "    }\n",
       "</style>\n",
       "<table border=\"1\" class=\"dataframe\">\n",
       "  <thead>\n",
       "    <tr style=\"text-align: right;\">\n",
       "      <th></th>\n",
       "      <th>CustomerID</th>\n",
       "      <th>Age</th>\n",
       "      <th>Gender</th>\n",
       "      <th>Income</th>\n",
       "      <th>AccountBalance</th>\n",
       "      <th>TransactionsLastMonth</th>\n",
       "      <th>Loans</th>\n",
       "      <th>CreditScore</th>\n",
       "      <th>Tenure</th>\n",
       "      <th>BranchRegion</th>\n",
       "      <th>MaritalStatus</th>\n",
       "      <th>PreferredChannel</th>\n",
       "      <th>LastTransactionDate</th>\n",
       "      <th>AvgTransactionValue</th>\n",
       "      <th>ProductHolding</th>\n",
       "    </tr>\n",
       "  </thead>\n",
       "  <tbody>\n",
       "    <tr>\n",
       "      <th>0</th>\n",
       "      <td>1</td>\n",
       "      <td>56</td>\n",
       "      <td>M</td>\n",
       "      <td>102421.000000</td>\n",
       "      <td>93590.0</td>\n",
       "      <td>19</td>\n",
       "      <td>1</td>\n",
       "      <td>394</td>\n",
       "      <td>10</td>\n",
       "      <td>West</td>\n",
       "      <td>Married</td>\n",
       "      <td>Online</td>\n",
       "      <td>2024-02-19</td>\n",
       "      <td>337.58</td>\n",
       "      <td>1</td>\n",
       "    </tr>\n",
       "    <tr>\n",
       "      <th>1</th>\n",
       "      <td>2</td>\n",
       "      <td>69</td>\n",
       "      <td>F</td>\n",
       "      <td>90496.294105</td>\n",
       "      <td>86612.0</td>\n",
       "      <td>48</td>\n",
       "      <td>4</td>\n",
       "      <td>568</td>\n",
       "      <td>1</td>\n",
       "      <td>East</td>\n",
       "      <td>Single</td>\n",
       "      <td>In-Branch</td>\n",
       "      <td>2024-03-14</td>\n",
       "      <td>913.94</td>\n",
       "      <td>3</td>\n",
       "    </tr>\n",
       "    <tr>\n",
       "      <th>2</th>\n",
       "      <td>3</td>\n",
       "      <td>46</td>\n",
       "      <td>F</td>\n",
       "      <td>85584.000000</td>\n",
       "      <td>80522.0</td>\n",
       "      <td>13</td>\n",
       "      <td>2</td>\n",
       "      <td>660</td>\n",
       "      <td>5</td>\n",
       "      <td>West</td>\n",
       "      <td>Single</td>\n",
       "      <td>Online</td>\n",
       "      <td>2024-04-21</td>\n",
       "      <td>116.06</td>\n",
       "      <td>1</td>\n",
       "    </tr>\n",
       "    <tr>\n",
       "      <th>3</th>\n",
       "      <td>4</td>\n",
       "      <td>32</td>\n",
       "      <td>M</td>\n",
       "      <td>39950.000000</td>\n",
       "      <td>14440.0</td>\n",
       "      <td>45</td>\n",
       "      <td>1</td>\n",
       "      <td>829</td>\n",
       "      <td>11</td>\n",
       "      <td>East</td>\n",
       "      <td>Single</td>\n",
       "      <td>Mobile App</td>\n",
       "      <td>2024-03-07</td>\n",
       "      <td>746.48</td>\n",
       "      <td>1</td>\n",
       "    </tr>\n",
       "    <tr>\n",
       "      <th>4</th>\n",
       "      <td>5</td>\n",
       "      <td>60</td>\n",
       "      <td>M</td>\n",
       "      <td>35173.000000</td>\n",
       "      <td>7960.0</td>\n",
       "      <td>34</td>\n",
       "      <td>4</td>\n",
       "      <td>461</td>\n",
       "      <td>9</td>\n",
       "      <td>North</td>\n",
       "      <td>Married</td>\n",
       "      <td>Mobile App</td>\n",
       "      <td>2024-01-13</td>\n",
       "      <td>583.56</td>\n",
       "      <td>3</td>\n",
       "    </tr>\n",
       "    <tr>\n",
       "      <th>...</th>\n",
       "      <td>...</td>\n",
       "      <td>...</td>\n",
       "      <td>...</td>\n",
       "      <td>...</td>\n",
       "      <td>...</td>\n",
       "      <td>...</td>\n",
       "      <td>...</td>\n",
       "      <td>...</td>\n",
       "      <td>...</td>\n",
       "      <td>...</td>\n",
       "      <td>...</td>\n",
       "      <td>...</td>\n",
       "      <td>...</td>\n",
       "      <td>...</td>\n",
       "      <td>...</td>\n",
       "    </tr>\n",
       "    <tr>\n",
       "      <th>4995</th>\n",
       "      <td>4996</td>\n",
       "      <td>24</td>\n",
       "      <td>M</td>\n",
       "      <td>97711.000000</td>\n",
       "      <td>42889.0</td>\n",
       "      <td>31</td>\n",
       "      <td>0</td>\n",
       "      <td>407</td>\n",
       "      <td>18</td>\n",
       "      <td>East</td>\n",
       "      <td>Single</td>\n",
       "      <td>Online</td>\n",
       "      <td>2024-01-21</td>\n",
       "      <td>306.28</td>\n",
       "      <td>1</td>\n",
       "    </tr>\n",
       "    <tr>\n",
       "      <th>4996</th>\n",
       "      <td>4997</td>\n",
       "      <td>66</td>\n",
       "      <td>F</td>\n",
       "      <td>77141.000000</td>\n",
       "      <td>14633.0</td>\n",
       "      <td>32</td>\n",
       "      <td>0</td>\n",
       "      <td>623</td>\n",
       "      <td>4</td>\n",
       "      <td>North</td>\n",
       "      <td>Married</td>\n",
       "      <td>In-Branch</td>\n",
       "      <td>2023-11-04</td>\n",
       "      <td>307.20</td>\n",
       "      <td>4</td>\n",
       "    </tr>\n",
       "    <tr>\n",
       "      <th>4997</th>\n",
       "      <td>4998</td>\n",
       "      <td>26</td>\n",
       "      <td>F</td>\n",
       "      <td>98232.000000</td>\n",
       "      <td>62244.0</td>\n",
       "      <td>12</td>\n",
       "      <td>2</td>\n",
       "      <td>830</td>\n",
       "      <td>16</td>\n",
       "      <td>East</td>\n",
       "      <td>Single</td>\n",
       "      <td>Online</td>\n",
       "      <td>2024-05-03</td>\n",
       "      <td>992.05</td>\n",
       "      <td>3</td>\n",
       "    </tr>\n",
       "    <tr>\n",
       "      <th>4998</th>\n",
       "      <td>4999</td>\n",
       "      <td>53</td>\n",
       "      <td>F</td>\n",
       "      <td>59023.000000</td>\n",
       "      <td>19163.0</td>\n",
       "      <td>26</td>\n",
       "      <td>0</td>\n",
       "      <td>403</td>\n",
       "      <td>11</td>\n",
       "      <td>South</td>\n",
       "      <td>Married</td>\n",
       "      <td>In-Branch</td>\n",
       "      <td>2023-11-13</td>\n",
       "      <td>332.94</td>\n",
       "      <td>1</td>\n",
       "    </tr>\n",
       "    <tr>\n",
       "      <th>4999</th>\n",
       "      <td>5000</td>\n",
       "      <td>36</td>\n",
       "      <td>F</td>\n",
       "      <td>60209.000000</td>\n",
       "      <td>59019.0</td>\n",
       "      <td>17</td>\n",
       "      <td>4</td>\n",
       "      <td>631</td>\n",
       "      <td>18</td>\n",
       "      <td>North</td>\n",
       "      <td>Married</td>\n",
       "      <td>Online</td>\n",
       "      <td>2023-09-11</td>\n",
       "      <td>213.13</td>\n",
       "      <td>4</td>\n",
       "    </tr>\n",
       "  </tbody>\n",
       "</table>\n",
       "<p>5000 rows × 15 columns</p>\n",
       "</div>"
      ],
      "text/plain": [
       "      CustomerID  Age Gender         Income  AccountBalance  \\\n",
       "0              1   56      M  102421.000000         93590.0   \n",
       "1              2   69      F   90496.294105         86612.0   \n",
       "2              3   46      F   85584.000000         80522.0   \n",
       "3              4   32      M   39950.000000         14440.0   \n",
       "4              5   60      M   35173.000000          7960.0   \n",
       "...          ...  ...    ...            ...             ...   \n",
       "4995        4996   24      M   97711.000000         42889.0   \n",
       "4996        4997   66      F   77141.000000         14633.0   \n",
       "4997        4998   26      F   98232.000000         62244.0   \n",
       "4998        4999   53      F   59023.000000         19163.0   \n",
       "4999        5000   36      F   60209.000000         59019.0   \n",
       "\n",
       "      TransactionsLastMonth  Loans  CreditScore  Tenure BranchRegion  \\\n",
       "0                        19      1          394      10         West   \n",
       "1                        48      4          568       1         East   \n",
       "2                        13      2          660       5         West   \n",
       "3                        45      1          829      11         East   \n",
       "4                        34      4          461       9        North   \n",
       "...                     ...    ...          ...     ...          ...   \n",
       "4995                     31      0          407      18         East   \n",
       "4996                     32      0          623       4        North   \n",
       "4997                     12      2          830      16         East   \n",
       "4998                     26      0          403      11        South   \n",
       "4999                     17      4          631      18        North   \n",
       "\n",
       "     MaritalStatus PreferredChannel LastTransactionDate  AvgTransactionValue  \\\n",
       "0          Married           Online          2024-02-19               337.58   \n",
       "1           Single        In-Branch          2024-03-14               913.94   \n",
       "2           Single           Online          2024-04-21               116.06   \n",
       "3           Single       Mobile App          2024-03-07               746.48   \n",
       "4          Married       Mobile App          2024-01-13               583.56   \n",
       "...            ...              ...                 ...                  ...   \n",
       "4995        Single           Online          2024-01-21               306.28   \n",
       "4996       Married        In-Branch          2023-11-04               307.20   \n",
       "4997        Single           Online          2024-05-03               992.05   \n",
       "4998       Married        In-Branch          2023-11-13               332.94   \n",
       "4999       Married           Online          2023-09-11               213.13   \n",
       "\n",
       "      ProductHolding  \n",
       "0                  1  \n",
       "1                  3  \n",
       "2                  1  \n",
       "3                  1  \n",
       "4                  3  \n",
       "...              ...  \n",
       "4995               1  \n",
       "4996               4  \n",
       "4997               3  \n",
       "4998               1  \n",
       "4999               4  \n",
       "\n",
       "[5000 rows x 15 columns]"
      ]
     },
     "execution_count": 17,
     "metadata": {},
     "output_type": "execute_result"
    }
   ],
   "source": [
    "df"
   ]
  },
  {
   "cell_type": "code",
   "execution_count": 18,
   "id": "db518a5b-7b3f-4f9c-a5b5-ade2b2eda974",
   "metadata": {},
   "outputs": [
    {
     "data": {
      "text/plain": [
       "CustomerID               0\n",
       "Age                      0\n",
       "Gender                   0\n",
       "Income                   0\n",
       "AccountBalance           0\n",
       "TransactionsLastMonth    0\n",
       "Loans                    0\n",
       "CreditScore              0\n",
       "Tenure                   0\n",
       "BranchRegion             0\n",
       "MaritalStatus            0\n",
       "PreferredChannel         0\n",
       "LastTransactionDate      0\n",
       "AvgTransactionValue      0\n",
       "ProductHolding           0\n",
       "dtype: int64"
      ]
     },
     "execution_count": 18,
     "metadata": {},
     "output_type": "execute_result"
    }
   ],
   "source": [
    "df.isnull().sum()"
   ]
  },
  {
   "cell_type": "markdown",
   "id": "8841b477-7831-4dd4-9119-7ec42924fcd0",
   "metadata": {},
   "source": [
    "# Age"
   ]
  },
  {
   "cell_type": "code",
   "execution_count": 19,
   "id": "a666ad0b-d55f-44e8-a769-85ac0deb0451",
   "metadata": {},
   "outputs": [
    {
     "data": {
      "text/plain": [
       "count    5000.000000\n",
       "mean       43.584600\n",
       "std        14.919094\n",
       "min        18.000000\n",
       "25%        31.000000\n",
       "50%        43.000000\n",
       "75%        56.000000\n",
       "max        69.000000\n",
       "Name: Age, dtype: float64"
      ]
     },
     "execution_count": 19,
     "metadata": {},
     "output_type": "execute_result"
    }
   ],
   "source": [
    "df['Age'].describe()"
   ]
  },
  {
   "cell_type": "code",
   "execution_count": 21,
   "id": "42dc6753-5f78-434c-819a-31f80732f451",
   "metadata": {},
   "outputs": [
    {
     "data": {
      "text/plain": [
       "<Axes: >"
      ]
     },
     "execution_count": 21,
     "metadata": {},
     "output_type": "execute_result"
    },
    {
     "data": {
      "image/png": "[encoded data removed]",
      "text/plain": [
       "<Figure size 640x480 with 1 Axes>"
      ]
     },
     "metadata": {},
     "output_type": "display_data"
    }
   ],
   "source": [
    "df['Age'].plot(kind='box')"
   ]
  },
  {
   "cell_type": "code",
   "execution_count": 22,
   "id": "62a19edb-4a17-46ee-94ae-f803ee9fdfca",
   "metadata": {},
   "outputs": [
    {
     "data": {
      "text/plain": [
       "<Axes: ylabel='Frequency'>"
      ]
     },
     "execution_count": 22,
     "metadata": {},
     "output_type": "execute_result"
    },
    {
     "data": {
      "image/png": "[encoded data removed]",
      "text/plain": [
       "<Figure size 640x480 with 1 Axes>"
      ]
     },
     "metadata": {},
     "output_type": "display_data"
    }
   ],
   "source": [
    "df['Age'].plot(kind='hist',bins=20)"
   ]
  },
  {
   "cell_type": "code",
   "execution_count": 23,
   "id": "7adaccfa-877a-48a2-9572-fd2036e9437d",
   "metadata": {},
   "outputs": [
    {
     "name": "stdout",
     "output_type": "stream",
     "text": [
      "Outliers:\n",
      "Empty DataFrame\n",
      "Columns: [CustomerID, Age, Gender, Income, AccountBalance, TransactionsLastMonth, Loans, CreditScore, Tenure, BranchRegion, MaritalStatus, PreferredChannel, LastTransactionDate, AvgTransactionValue, ProductHolding]\n",
      "Index: []\n"
     ]
    }
   ],
   "source": [
    "# Calculate Q1 (25th percentile) and Q3 (75th percentile)\n",
    "Q1 = df['Age'].quantile(0.25)\n",
    "Q3 = df['Age'].quantile(0.75)\n",
    "\n",
    "# Calculate the Interquartile Range (IQR)\n",
    "IQR = Q3 - Q1\n",
    "\n",
    "# Define the lower and upper bound for outliers\n",
    "lower_bound = Q1 - 1.5 * IQR\n",
    "upper_bound = Q3 + 1.5 * IQR\n",
    "\n",
    "# Identify outliers\n",
    "outliers = df[(df['Age'] < lower_bound) | (df['Age'] > upper_bound)]\n",
    "\n",
    "print(\"Outliers:\")\n",
    "print(outliers)\n"
   ]
  },
  {
   "cell_type": "code",
   "execution_count": 24,
   "id": "6683d931-c08b-4672-ac40-958922ccaa8b",
   "metadata": {},
   "outputs": [
    {
     "name": "stdout",
     "output_type": "stream",
     "text": [
      "Lower_Bound -6.5\n",
      "Upper_Bound 93.5\n"
     ]
    }
   ],
   "source": [
    "Q1 = df['Age'].quantile(0.25)\n",
    "Q3 = df['Age'].quantile(0.75)\n",
    "IQR = Q3 - Q1\n",
    "lower_bound = Q1 - 1.5 * IQR\n",
    "upper_bound = Q3 + 1.5 * IQR\n",
    "print(\"Lower_Bound\",lower_bound)\n",
    "print(\"Upper_Bound\",upper_bound)"
   ]
  },
  {
   "cell_type": "code",
   "execution_count": 31,
   "id": "52e149ae-28fd-4bc7-8828-15fc30a2a403",
   "metadata": {},
   "outputs": [
    {
     "name": "stderr",
     "output_type": "stream",
     "text": [
      "C:\\Users\\LENOVO\\AppData\\Local\\Temp\\ipykernel_24548\\2509096820.py:1: UserWarning: \n",
      "\n",
      "`distplot` is a deprecated function and will be removed in seaborn v0.14.0.\n",
      "\n",
      "Please adapt your code to use either `displot` (a figure-level function with\n",
      "similar flexibility) or `histplot` (an axes-level function for histograms).\n",
      "\n",
      "For a guide to updating your code to use the new functions, please see\n",
      "https://gist.github.com/mwaskom/de44147ed2974457ad6372750bbe5751\n",
      "\n",
      "  sns.distplot(df['Age'],bins=6)\n",
      "C:\\Users\\LENOVO\\anaconda3\\ANACONDA\\Lib\\site-packages\\seaborn\\_oldcore.py:1119: FutureWarning: use_inf_as_na option is deprecated and will be removed in a future version. Convert inf values to NaN before operating instead.\n",
      "  with pd.option_context('mode.use_inf_as_na', True):\n"
     ]
    },
    {
     "data": {
      "text/plain": [
       "<Axes: xlabel='Age', ylabel='Density'>"
      ]
     },
     "execution_count": 31,
     "metadata": {},
     "output_type": "execute_result"
    },
    {
     "data": {
      "image/png": "[encoded data removed]",
      "text/plain": [
       "<Figure size 640x480 with 1 Axes>"
      ]
     },
     "metadata": {},
     "output_type": "display_data"
    }
   ],
   "source": [
    "sns.distplot(df['Age'],bins=6)"
   ]
  },
  {
   "cell_type": "markdown",
   "id": "ecaabcb6-f342-4827-871b-bfa05fd4c61c",
   "metadata": {},
   "source": [
    "# Loans"
   ]
  },
  {
   "cell_type": "code",
   "execution_count": 32,
   "id": "62526395-17bc-4d3c-8342-6b3fa373f6cd",
   "metadata": {},
   "outputs": [
    {
     "data": {
      "text/plain": [
       "Loans\n",
       "3    1035\n",
       "0    1025\n",
       "1    1012\n",
       "4     971\n",
       "2     957\n",
       "Name: count, dtype: int64"
      ]
     },
     "execution_count": 32,
     "metadata": {},
     "output_type": "execute_result"
    }
   ],
   "source": [
    "df['Loans'].value_counts()"
   ]
  },
  {
   "cell_type": "code",
   "execution_count": null,
   "id": "2aecb999-8a74-4466-b4e1-3d0206c43019",
   "metadata": {},
   "outputs": [],
   "source": []
  },
  {
   "cell_type": "code",
   "execution_count": 33,
   "id": "6ef5a4d4-a4c1-4f89-862e-5995cb94d88a",
   "metadata": {},
   "outputs": [
    {
     "data": {
      "text/plain": [
       "<Axes: xlabel='Loans'>"
      ]
     },
     "execution_count": 33,
     "metadata": {},
     "output_type": "execute_result"
    },
    {
     "data": {
      "image/png": "[encoded data removed]",
      "text/plain": [
       "<Figure size 640x480 with 1 Axes>"
      ]
     },
     "metadata": {},
     "output_type": "display_data"
    }
   ],
   "source": [
    "df['Loans'].value_counts().plot(kind='bar')"
   ]
  },
  {
   "cell_type": "code",
   "execution_count": 34,
   "id": "a40a75c1-518a-4cf2-a475-96a5f10e4fac",
   "metadata": {},
   "outputs": [
    {
     "data": {
      "text/plain": [
       "<Axes: ylabel='count'>"
      ]
     },
     "execution_count": 34,
     "metadata": {},
     "output_type": "execute_result"
    },
    {
     "data": {
      "image/png": "[encoded data removed]",
      "text/plain": [
       "<Figure size 640x480 with 1 Axes>"
      ]
     },
     "metadata": {},
     "output_type": "display_data"
    }
   ],
   "source": [
    "df['Loans'].value_counts().plot(kind='pie',autopct='%.2f')"
   ]
  },
  {
   "cell_type": "code",
   "execution_count": 35,
   "id": "60f89320-71cb-4a28-b121-276ee376b18e",
   "metadata": {},
   "outputs": [
    {
     "data": {
      "text/plain": [
       "0"
      ]
     },
     "execution_count": 35,
     "metadata": {},
     "output_type": "execute_result"
    }
   ],
   "source": [
    "df['Loans'].isnull().sum()\n"
   ]
  },
  {
   "cell_type": "markdown",
   "id": "e43ae00a-58f5-4744-975a-1215f470d80c",
   "metadata": {},
   "source": [
    "# MaritalStatus"
   ]
  },
  {
   "cell_type": "code",
   "execution_count": 36,
   "id": "9c5e12e5-b278-4a43-8e6d-1ebcbfd086fb",
   "metadata": {},
   "outputs": [
    {
     "data": {
      "text/plain": [
       "MaritalStatus\n",
       "Married    2576\n",
       "Single     2424\n",
       "Name: count, dtype: int64"
      ]
     },
     "execution_count": 36,
     "metadata": {},
     "output_type": "execute_result"
    }
   ],
   "source": [
    "df['MaritalStatus'].value_counts()"
   ]
  },
  {
   "cell_type": "code",
   "execution_count": 37,
   "id": "ff2bb008-41c3-4ac1-9c25-5e8df6de2069",
   "metadata": {},
   "outputs": [
    {
     "data": {
      "text/plain": [
       "<Axes: ylabel='count'>"
      ]
     },
     "execution_count": 37,
     "metadata": {},
     "output_type": "execute_result"
    },
    {
     "data": {
      "image/png": "[encoded data removed]",
      "text/plain": [
       "<Figure size 640x480 with 1 Axes>"
      ]
     },
     "metadata": {},
     "output_type": "display_data"
    }
   ],
   "source": [
    "df['MaritalStatus'].value_counts().plot(kind='pie',autopct='%.2f')"
   ]
  },
  {
   "cell_type": "markdown",
   "id": "737f6dce-2539-4775-a903-200a75d17328",
   "metadata": {},
   "source": [
    "# Gender\t"
   ]
  },
  {
   "cell_type": "code",
   "execution_count": 38,
   "id": "a1e12c8c-3275-4d9f-bca4-84179a4bafcc",
   "metadata": {},
   "outputs": [
    {
     "data": {
      "text/plain": [
       "Gender\n",
       "F    2514\n",
       "M    2486\n",
       "Name: count, dtype: int64"
      ]
     },
     "execution_count": 38,
     "metadata": {},
     "output_type": "execute_result"
    }
   ],
   "source": [
    "df['Gender'].value_counts()"
   ]
  },
  {
   "cell_type": "code",
   "execution_count": 39,
   "id": "45ea80bd-e6b6-455f-8bf2-87a178888c66",
   "metadata": {},
   "outputs": [
    {
     "data": {
      "text/plain": [
       "<Axes: xlabel='Gender'>"
      ]
     },
     "execution_count": 39,
     "metadata": {},
     "output_type": "execute_result"
    },
    {
     "data": {
      "image/png": "[encoded data removed]",
      "text/plain": [
       "<Figure size 640x480 with 1 Axes>"
      ]
     },
     "metadata": {},
     "output_type": "display_data"
    }
   ],
   "source": [
    "df['Gender'].value_counts().plot(kind='bar')"
   ]
  },
  {
   "cell_type": "code",
   "execution_count": 40,
   "id": "3f0f44d2-b362-4fd4-a640-b8c34141a7f4",
   "metadata": {},
   "outputs": [
    {
     "data": {
      "text/plain": [
       "<Axes: ylabel='count'>"
      ]
     },
     "execution_count": 40,
     "metadata": {},
     "output_type": "execute_result"
    },
    {
     "data": {
      "image/png": "[encoded data removed]",
      "text/plain": [
       "<Figure size 640x480 with 1 Axes>"
      ]
     },
     "metadata": {},
     "output_type": "display_data"
    }
   ],
   "source": [
    "df['Gender'].value_counts().plot(kind='pie',autopct='%.2f')"
   ]
  },
  {
   "cell_type": "code",
   "execution_count": 41,
   "id": "07f44343-5e06-4657-bc9e-be85f5652d9b",
   "metadata": {},
   "outputs": [
    {
     "data": {
      "text/plain": [
       "TransactionsLastMonth\n",
       "14    135\n",
       "47    131\n",
       "30    114\n",
       "22    113\n",
       "0     113\n",
       "9     112\n",
       "16    112\n",
       "20    110\n",
       "17    108\n",
       "2     108\n",
       "18    108\n",
       "6     108\n",
       "33    107\n",
       "8     107\n",
       "23    106\n",
       "39    106\n",
       "37    105\n",
       "49    104\n",
       "44    104\n",
       "25    103\n",
       "4     102\n",
       "12    102\n",
       "3     101\n",
       "35    100\n",
       "1     100\n",
       "7     100\n",
       "42     99\n",
       "48     99\n",
       "24     98\n",
       "45     98\n",
       "43     97\n",
       "46     97\n",
       "28     96\n",
       "40     95\n",
       "13     95\n",
       "41     94\n",
       "31     94\n",
       "32     94\n",
       "38     94\n",
       "26     92\n",
       "29     91\n",
       "19     89\n",
       "21     88\n",
       "11     88\n",
       "27     87\n",
       "5      86\n",
       "36     84\n",
       "34     83\n",
       "10     72\n",
       "15     71\n",
       "Name: count, dtype: int64"
      ]
     },
     "execution_count": 41,
     "metadata": {},
     "output_type": "execute_result"
    }
   ],
   "source": [
    "df['TransactionsLastMonth'].value_counts()"
   ]
  },
  {
   "cell_type": "code",
   "execution_count": 44,
   "id": "7098e8e6-ae86-41e2-8512-d1632964df7c",
   "metadata": {},
   "outputs": [
    {
     "data": {
      "text/html": [
       "<div>\n",
       "<style scoped>\n",
       "    .dataframe tbody tr th:only-of-type {\n",
       "        vertical-align: middle;\n",
       "    }\n",
       "\n",
       "    .dataframe tbody tr th {\n",
       "        vertical-align: top;\n",
       "    }\n",
       "\n",
       "    .dataframe thead th {\n",
       "        text-align: right;\n",
       "    }\n",
       "</style>\n",
       "<table border=\"1\" class=\"dataframe\">\n",
       "  <thead>\n",
       "    <tr style=\"text-align: right;\">\n",
       "      <th></th>\n",
       "      <th>CustomerID</th>\n",
       "      <th>Age</th>\n",
       "      <th>Gender</th>\n",
       "      <th>Income</th>\n",
       "      <th>AccountBalance</th>\n",
       "      <th>TransactionsLastMonth</th>\n",
       "      <th>Loans</th>\n",
       "      <th>CreditScore</th>\n",
       "      <th>Tenure</th>\n",
       "      <th>BranchRegion</th>\n",
       "      <th>MaritalStatus</th>\n",
       "      <th>PreferredChannel</th>\n",
       "      <th>LastTransactionDate</th>\n",
       "      <th>AvgTransactionValue</th>\n",
       "      <th>ProductHolding</th>\n",
       "    </tr>\n",
       "  </thead>\n",
       "  <tbody>\n",
       "    <tr>\n",
       "      <th>0</th>\n",
       "      <td>1</td>\n",
       "      <td>56</td>\n",
       "      <td>M</td>\n",
       "      <td>102421.000000</td>\n",
       "      <td>93590.0</td>\n",
       "      <td>19</td>\n",
       "      <td>1</td>\n",
       "      <td>394</td>\n",
       "      <td>10</td>\n",
       "      <td>West</td>\n",
       "      <td>Married</td>\n",
       "      <td>Online</td>\n",
       "      <td>2024-02-19</td>\n",
       "      <td>337.58</td>\n",
       "      <td>1</td>\n",
       "    </tr>\n",
       "    <tr>\n",
       "      <th>1</th>\n",
       "      <td>2</td>\n",
       "      <td>69</td>\n",
       "      <td>F</td>\n",
       "      <td>90496.294105</td>\n",
       "      <td>86612.0</td>\n",
       "      <td>48</td>\n",
       "      <td>4</td>\n",
       "      <td>568</td>\n",
       "      <td>1</td>\n",
       "      <td>East</td>\n",
       "      <td>Single</td>\n",
       "      <td>In-Branch</td>\n",
       "      <td>2024-03-14</td>\n",
       "      <td>913.94</td>\n",
       "      <td>3</td>\n",
       "    </tr>\n",
       "    <tr>\n",
       "      <th>2</th>\n",
       "      <td>3</td>\n",
       "      <td>46</td>\n",
       "      <td>F</td>\n",
       "      <td>85584.000000</td>\n",
       "      <td>80522.0</td>\n",
       "      <td>13</td>\n",
       "      <td>2</td>\n",
       "      <td>660</td>\n",
       "      <td>5</td>\n",
       "      <td>West</td>\n",
       "      <td>Single</td>\n",
       "      <td>Online</td>\n",
       "      <td>2024-04-21</td>\n",
       "      <td>116.06</td>\n",
       "      <td>1</td>\n",
       "    </tr>\n",
       "    <tr>\n",
       "      <th>3</th>\n",
       "      <td>4</td>\n",
       "      <td>32</td>\n",
       "      <td>M</td>\n",
       "      <td>39950.000000</td>\n",
       "      <td>14440.0</td>\n",
       "      <td>45</td>\n",
       "      <td>1</td>\n",
       "      <td>829</td>\n",
       "      <td>11</td>\n",
       "      <td>East</td>\n",
       "      <td>Single</td>\n",
       "      <td>Mobile App</td>\n",
       "      <td>2024-03-07</td>\n",
       "      <td>746.48</td>\n",
       "      <td>1</td>\n",
       "    </tr>\n",
       "    <tr>\n",
       "      <th>4</th>\n",
       "      <td>5</td>\n",
       "      <td>60</td>\n",
       "      <td>M</td>\n",
       "      <td>35173.000000</td>\n",
       "      <td>7960.0</td>\n",
       "      <td>34</td>\n",
       "      <td>4</td>\n",
       "      <td>461</td>\n",
       "      <td>9</td>\n",
       "      <td>North</td>\n",
       "      <td>Married</td>\n",
       "      <td>Mobile App</td>\n",
       "      <td>2024-01-13</td>\n",
       "      <td>583.56</td>\n",
       "      <td>3</td>\n",
       "    </tr>\n",
       "    <tr>\n",
       "      <th>...</th>\n",
       "      <td>...</td>\n",
       "      <td>...</td>\n",
       "      <td>...</td>\n",
       "      <td>...</td>\n",
       "      <td>...</td>\n",
       "      <td>...</td>\n",
       "      <td>...</td>\n",
       "      <td>...</td>\n",
       "      <td>...</td>\n",
       "      <td>...</td>\n",
       "      <td>...</td>\n",
       "      <td>...</td>\n",
       "      <td>...</td>\n",
       "      <td>...</td>\n",
       "      <td>...</td>\n",
       "    </tr>\n",
       "    <tr>\n",
       "      <th>4995</th>\n",
       "      <td>4996</td>\n",
       "      <td>24</td>\n",
       "      <td>M</td>\n",
       "      <td>97711.000000</td>\n",
       "      <td>42889.0</td>\n",
       "      <td>31</td>\n",
       "      <td>0</td>\n",
       "      <td>407</td>\n",
       "      <td>18</td>\n",
       "      <td>East</td>\n",
       "      <td>Single</td>\n",
       "      <td>Online</td>\n",
       "      <td>2024-01-21</td>\n",
       "      <td>306.28</td>\n",
       "      <td>1</td>\n",
       "    </tr>\n",
       "    <tr>\n",
       "      <th>4996</th>\n",
       "      <td>4997</td>\n",
       "      <td>66</td>\n",
       "      <td>F</td>\n",
       "      <td>77141.000000</td>\n",
       "      <td>14633.0</td>\n",
       "      <td>32</td>\n",
       "      <td>0</td>\n",
       "      <td>623</td>\n",
       "      <td>4</td>\n",
       "      <td>North</td>\n",
       "      <td>Married</td>\n",
       "      <td>In-Branch</td>\n",
       "      <td>2023-11-04</td>\n",
       "      <td>307.20</td>\n",
       "      <td>4</td>\n",
       "    </tr>\n",
       "    <tr>\n",
       "      <th>4997</th>\n",
       "      <td>4998</td>\n",
       "      <td>26</td>\n",
       "      <td>F</td>\n",
       "      <td>98232.000000</td>\n",
       "      <td>62244.0</td>\n",
       "      <td>12</td>\n",
       "      <td>2</td>\n",
       "      <td>830</td>\n",
       "      <td>16</td>\n",
       "      <td>East</td>\n",
       "      <td>Single</td>\n",
       "      <td>Online</td>\n",
       "      <td>2024-05-03</td>\n",
       "      <td>992.05</td>\n",
       "      <td>3</td>\n",
       "    </tr>\n",
       "    <tr>\n",
       "      <th>4998</th>\n",
       "      <td>4999</td>\n",
       "      <td>53</td>\n",
       "      <td>F</td>\n",
       "      <td>59023.000000</td>\n",
       "      <td>19163.0</td>\n",
       "      <td>26</td>\n",
       "      <td>0</td>\n",
       "      <td>403</td>\n",
       "      <td>11</td>\n",
       "      <td>South</td>\n",
       "      <td>Married</td>\n",
       "      <td>In-Branch</td>\n",
       "      <td>2023-11-13</td>\n",
       "      <td>332.94</td>\n",
       "      <td>1</td>\n",
       "    </tr>\n",
       "    <tr>\n",
       "      <th>4999</th>\n",
       "      <td>5000</td>\n",
       "      <td>36</td>\n",
       "      <td>F</td>\n",
       "      <td>60209.000000</td>\n",
       "      <td>59019.0</td>\n",
       "      <td>17</td>\n",
       "      <td>4</td>\n",
       "      <td>631</td>\n",
       "      <td>18</td>\n",
       "      <td>North</td>\n",
       "      <td>Married</td>\n",
       "      <td>Online</td>\n",
       "      <td>2023-09-11</td>\n",
       "      <td>213.13</td>\n",
       "      <td>4</td>\n",
       "    </tr>\n",
       "  </tbody>\n",
       "</table>\n",
       "<p>5000 rows × 15 columns</p>\n",
       "</div>"
      ],
      "text/plain": [
       "      CustomerID  Age Gender         Income  AccountBalance  \\\n",
       "0              1   56      M  102421.000000         93590.0   \n",
       "1              2   69      F   90496.294105         86612.0   \n",
       "2              3   46      F   85584.000000         80522.0   \n",
       "3              4   32      M   39950.000000         14440.0   \n",
       "4              5   60      M   35173.000000          7960.0   \n",
       "...          ...  ...    ...            ...             ...   \n",
       "4995        4996   24      M   97711.000000         42889.0   \n",
       "4996        4997   66      F   77141.000000         14633.0   \n",
       "4997        4998   26      F   98232.000000         62244.0   \n",
       "4998        4999   53      F   59023.000000         19163.0   \n",
       "4999        5000   36      F   60209.000000         59019.0   \n",
       "\n",
       "      TransactionsLastMonth  Loans  CreditScore  Tenure BranchRegion  \\\n",
       "0                        19      1          394      10         West   \n",
       "1                        48      4          568       1         East   \n",
       "2                        13      2          660       5         West   \n",
       "3                        45      1          829      11         East   \n",
       "4                        34      4          461       9        North   \n",
       "...                     ...    ...          ...     ...          ...   \n",
       "4995                     31      0          407      18         East   \n",
       "4996                     32      0          623       4        North   \n",
       "4997                     12      2          830      16         East   \n",
       "4998                     26      0          403      11        South   \n",
       "4999                     17      4          631      18        North   \n",
       "\n",
       "     MaritalStatus PreferredChannel LastTransactionDate  AvgTransactionValue  \\\n",
       "0          Married           Online          2024-02-19               337.58   \n",
       "1           Single        In-Branch          2024-03-14               913.94   \n",
       "2           Single           Online          2024-04-21               116.06   \n",
       "3           Single       Mobile App          2024-03-07               746.48   \n",
       "4          Married       Mobile App          2024-01-13               583.56   \n",
       "...            ...              ...                 ...                  ...   \n",
       "4995        Single           Online          2024-01-21               306.28   \n",
       "4996       Married        In-Branch          2023-11-04               307.20   \n",
       "4997        Single           Online          2024-05-03               992.05   \n",
       "4998       Married        In-Branch          2023-11-13               332.94   \n",
       "4999       Married           Online          2023-09-11               213.13   \n",
       "\n",
       "      ProductHolding  \n",
       "0                  1  \n",
       "1                  3  \n",
       "2                  1  \n",
       "3                  1  \n",
       "4                  3  \n",
       "...              ...  \n",
       "4995               1  \n",
       "4996               4  \n",
       "4997               3  \n",
       "4998               1  \n",
       "4999               4  \n",
       "\n",
       "[5000 rows x 15 columns]"
      ]
     },
     "execution_count": 44,
     "metadata": {},
     "output_type": "execute_result"
    }
   ],
   "source": [
    "df"
   ]
  },
  {
   "cell_type": "markdown",
   "id": "10544d66-4924-480e-952f-7a35284c7928",
   "metadata": {},
   "source": [
    "# PreferredChannel"
   ]
  },
  {
   "cell_type": "code",
   "execution_count": 45,
   "id": "30d08450-eda2-4462-b878-a70a1c9c925b",
   "metadata": {},
   "outputs": [
    {
     "data": {
      "text/plain": [
       "PreferredChannel\n",
       "Mobile App    1721\n",
       "In-Branch     1661\n",
       "Online        1618\n",
       "Name: count, dtype: int64"
      ]
     },
     "execution_count": 45,
     "metadata": {},
     "output_type": "execute_result"
    }
   ],
   "source": [
    "df['PreferredChannel'].value_counts()"
   ]
  },
  {
   "cell_type": "code",
   "execution_count": 46,
   "id": "50770aa5-855d-4abd-a842-64e816ddc3a2",
   "metadata": {},
   "outputs": [
    {
     "data": {
      "text/plain": [
       "<Axes: xlabel='PreferredChannel'>"
      ]
     },
     "execution_count": 46,
     "metadata": {},
     "output_type": "execute_result"
    },
    {
     "data": {
      "image/png": "[encoded data removed]",
      "text/plain": [
       "<Figure size 640x480 with 1 Axes>"
      ]
     },
     "metadata": {},
     "output_type": "display_data"
    }
   ],
   "source": [
    "df['PreferredChannel'].value_counts().plot(kind='bar')"
   ]
  },
  {
   "cell_type": "code",
   "execution_count": 47,
   "id": "063588b4-6418-4bae-aea4-e024b6c39175",
   "metadata": {},
   "outputs": [
    {
     "data": {
      "text/plain": [
       "<Axes: ylabel='count'>"
      ]
     },
     "execution_count": 47,
     "metadata": {},
     "output_type": "execute_result"
    },
    {
     "data": {
      "image/png": "[encoded data removed]",
      "text/plain": [
       "<Figure size 640x480 with 1 Axes>"
      ]
     },
     "metadata": {},
     "output_type": "display_data"
    }
   ],
   "source": [
    "df['PreferredChannel'].value_counts().plot(kind='pie',autopct='%.2f')"
   ]
  },
  {
   "cell_type": "markdown",
   "id": "5b8d449c-dc1d-4500-8d4a-fec0617b7d83",
   "metadata": {},
   "source": [
    "# Bivariate Analysis on CreditScore\t&  MaritalStatus\t"
   ]
  },
  {
   "cell_type": "code",
   "execution_count": 49,
   "id": "1f3214c7-ff56-4823-b67b-9b9a42b13459",
   "metadata": {},
   "outputs": [
    {
     "data": {
      "text/plain": [
       "<matplotlib.legend.Legend at 0x1f353cccf90>"
      ]
     },
     "execution_count": 49,
     "metadata": {},
     "output_type": "execute_result"
    },
    {
     "data": {
      "image/png": "[encoded data removed]",
      "text/plain": [
       "<Figure size 640x480 with 1 Axes>"
      ]
     },
     "metadata": {},
     "output_type": "display_data"
    }
   ],
   "source": [
    "df[df['MaritalStatus']=='Married']['CreditScore'].plot(kind='kde',label='Married')\n",
    "df[df['MaritalStatus']=='Single']['CreditScore'].plot(kind='kde',label='Single')\n",
    "plt.legend()"
   ]
  },
  {
   "cell_type": "code",
   "execution_count": 50,
   "id": "b55010d4-0d43-4e37-8e82-3845d0690a3c",
   "metadata": {},
   "outputs": [],
   "source": [
    "# Income vs MaritalStatus\t"
   ]
  },
  {
   "cell_type": "code",
   "execution_count": 51,
   "id": "b71b2989-d65c-4aa5-aea8-acd9f9d78eed",
   "metadata": {},
   "outputs": [
    {
     "data": {
      "text/plain": [
       "<Axes: xlabel='MaritalStatus', ylabel='Income'>"
      ]
     },
     "execution_count": 51,
     "metadata": {},
     "output_type": "execute_result"
    },
    {
     "data": {
      "image/png": "[encoded data removed]",
      "text/plain": [
       "<Figure size 640x480 with 1 Axes>"
      ]
     },
     "metadata": {},
     "output_type": "display_data"
    }
   ],
   "source": [
    "sns.barplot(x='MaritalStatus',y='Income',data=df)"
   ]
  },
  {
   "cell_type": "code",
   "execution_count": 53,
   "id": "be0ade42-5dbd-4651-b1e6-c05a0406c101",
   "metadata": {},
   "outputs": [
    {
     "data": {
      "text/plain": [
       "<Axes: xlabel='Gender', ylabel='Income'>"
      ]
     },
     "execution_count": 53,
     "metadata": {},
     "output_type": "execute_result"
    },
    {
     "data": {
      "image/png": "[encoded data removed]",
      "text/plain": [
       "<Figure size 640x480 with 1 Axes>"
      ]
     },
     "metadata": {},
     "output_type": "display_data"
    }
   ],
   "source": [
    "sns.barplot(x='Gender',y='Income',data=df)"
   ]
  },
  {
   "cell_type": "code",
   "execution_count": 56,
   "id": "742f1d15-2e6f-46c0-a0b5-2741ffcb8bb2",
   "metadata": {},
   "outputs": [
    {
     "data": {
      "text/plain": [
       "<Axes: xlabel='AccountBalance', ylabel='Age'>"
      ]
     },
     "execution_count": 56,
     "metadata": {},
     "output_type": "execute_result"
    },
    {
     "data": {
      "image/png": "[encoded data removed]",
      "text/plain": [
       "<Figure size 640x480 with 1 Axes>"
      ]
     },
     "metadata": {},
     "output_type": "display_data"
    }
   ],
   "source": [
    "sns.scatterplot(x='AccountBalance',y='Age',data=df)"
   ]
  },
  {
   "cell_type": "code",
   "execution_count": 57,
   "id": "99cb5124-aa6a-4fcc-a838-32096c31ea62",
   "metadata": {},
   "outputs": [
    {
     "data": {
      "text/plain": [
       "<Axes: xlabel='Income', ylabel='Age'>"
      ]
     },
     "execution_count": 57,
     "metadata": {},
     "output_type": "execute_result"
    },
    {
     "data": {
      "image/png": "[encoded data removed]",
      "text/plain": [
       "<Figure size 640x480 with 1 Axes>"
      ]
     },
     "metadata": {},
     "output_type": "display_data"
    }
   ],
   "source": [
    "sns.scatterplot(x='Income',y='Age',data=df)"
   ]
  },
  {
   "cell_type": "code",
   "execution_count": 61,
   "id": "0bc919d7-1b11-4573-b7ef-68ecae514416",
   "metadata": {},
   "outputs": [
    {
     "data": {
      "text/html": [
       "<div>\n",
       "<style scoped>\n",
       "    .dataframe tbody tr th:only-of-type {\n",
       "        vertical-align: middle;\n",
       "    }\n",
       "\n",
       "    .dataframe tbody tr th {\n",
       "        vertical-align: top;\n",
       "    }\n",
       "\n",
       "    .dataframe thead th {\n",
       "        text-align: right;\n",
       "    }\n",
       "</style>\n",
       "<table border=\"1\" class=\"dataframe\">\n",
       "  <thead>\n",
       "    <tr style=\"text-align: right;\">\n",
       "      <th></th>\n",
       "      <th>CustomerID</th>\n",
       "      <th>Age</th>\n",
       "      <th>Gender</th>\n",
       "      <th>Income</th>\n",
       "      <th>AccountBalance</th>\n",
       "      <th>TransactionsLastMonth</th>\n",
       "      <th>Loans</th>\n",
       "      <th>CreditScore</th>\n",
       "      <th>Tenure</th>\n",
       "      <th>BranchRegion</th>\n",
       "      <th>MaritalStatus</th>\n",
       "      <th>PreferredChannel</th>\n",
       "      <th>LastTransactionDate</th>\n",
       "      <th>AvgTransactionValue</th>\n",
       "      <th>ProductHolding</th>\n",
       "    </tr>\n",
       "  </thead>\n",
       "  <tbody>\n",
       "    <tr>\n",
       "      <th>0</th>\n",
       "      <td>1</td>\n",
       "      <td>56</td>\n",
       "      <td>M</td>\n",
       "      <td>102421.000000</td>\n",
       "      <td>93590.0</td>\n",
       "      <td>19</td>\n",
       "      <td>1</td>\n",
       "      <td>394</td>\n",
       "      <td>10</td>\n",
       "      <td>West</td>\n",
       "      <td>Married</td>\n",
       "      <td>Online</td>\n",
       "      <td>2024-02-19</td>\n",
       "      <td>337.58</td>\n",
       "      <td>1</td>\n",
       "    </tr>\n",
       "    <tr>\n",
       "      <th>1</th>\n",
       "      <td>2</td>\n",
       "      <td>69</td>\n",
       "      <td>F</td>\n",
       "      <td>90496.294105</td>\n",
       "      <td>86612.0</td>\n",
       "      <td>48</td>\n",
       "      <td>4</td>\n",
       "      <td>568</td>\n",
       "      <td>1</td>\n",
       "      <td>East</td>\n",
       "      <td>Single</td>\n",
       "      <td>In-Branch</td>\n",
       "      <td>2024-03-14</td>\n",
       "      <td>913.94</td>\n",
       "      <td>3</td>\n",
       "    </tr>\n",
       "    <tr>\n",
       "      <th>2</th>\n",
       "      <td>3</td>\n",
       "      <td>46</td>\n",
       "      <td>F</td>\n",
       "      <td>85584.000000</td>\n",
       "      <td>80522.0</td>\n",
       "      <td>13</td>\n",
       "      <td>2</td>\n",
       "      <td>660</td>\n",
       "      <td>5</td>\n",
       "      <td>West</td>\n",
       "      <td>Single</td>\n",
       "      <td>Online</td>\n",
       "      <td>2024-04-21</td>\n",
       "      <td>116.06</td>\n",
       "      <td>1</td>\n",
       "    </tr>\n",
       "    <tr>\n",
       "      <th>3</th>\n",
       "      <td>4</td>\n",
       "      <td>32</td>\n",
       "      <td>M</td>\n",
       "      <td>39950.000000</td>\n",
       "      <td>14440.0</td>\n",
       "      <td>45</td>\n",
       "      <td>1</td>\n",
       "      <td>829</td>\n",
       "      <td>11</td>\n",
       "      <td>East</td>\n",
       "      <td>Single</td>\n",
       "      <td>Mobile App</td>\n",
       "      <td>2024-03-07</td>\n",
       "      <td>746.48</td>\n",
       "      <td>1</td>\n",
       "    </tr>\n",
       "    <tr>\n",
       "      <th>4</th>\n",
       "      <td>5</td>\n",
       "      <td>60</td>\n",
       "      <td>M</td>\n",
       "      <td>35173.000000</td>\n",
       "      <td>7960.0</td>\n",
       "      <td>34</td>\n",
       "      <td>4</td>\n",
       "      <td>461</td>\n",
       "      <td>9</td>\n",
       "      <td>North</td>\n",
       "      <td>Married</td>\n",
       "      <td>Mobile App</td>\n",
       "      <td>2024-01-13</td>\n",
       "      <td>583.56</td>\n",
       "      <td>3</td>\n",
       "    </tr>\n",
       "    <tr>\n",
       "      <th>...</th>\n",
       "      <td>...</td>\n",
       "      <td>...</td>\n",
       "      <td>...</td>\n",
       "      <td>...</td>\n",
       "      <td>...</td>\n",
       "      <td>...</td>\n",
       "      <td>...</td>\n",
       "      <td>...</td>\n",
       "      <td>...</td>\n",
       "      <td>...</td>\n",
       "      <td>...</td>\n",
       "      <td>...</td>\n",
       "      <td>...</td>\n",
       "      <td>...</td>\n",
       "      <td>...</td>\n",
       "    </tr>\n",
       "    <tr>\n",
       "      <th>4995</th>\n",
       "      <td>4996</td>\n",
       "      <td>24</td>\n",
       "      <td>M</td>\n",
       "      <td>97711.000000</td>\n",
       "      <td>42889.0</td>\n",
       "      <td>31</td>\n",
       "      <td>0</td>\n",
       "      <td>407</td>\n",
       "      <td>18</td>\n",
       "      <td>East</td>\n",
       "      <td>Single</td>\n",
       "      <td>Online</td>\n",
       "      <td>2024-01-21</td>\n",
       "      <td>306.28</td>\n",
       "      <td>1</td>\n",
       "    </tr>\n",
       "    <tr>\n",
       "      <th>4996</th>\n",
       "      <td>4997</td>\n",
       "      <td>66</td>\n",
       "      <td>F</td>\n",
       "      <td>77141.000000</td>\n",
       "      <td>14633.0</td>\n",
       "      <td>32</td>\n",
       "      <td>0</td>\n",
       "      <td>623</td>\n",
       "      <td>4</td>\n",
       "      <td>North</td>\n",
       "      <td>Married</td>\n",
       "      <td>In-Branch</td>\n",
       "      <td>2023-11-04</td>\n",
       "      <td>307.20</td>\n",
       "      <td>4</td>\n",
       "    </tr>\n",
       "    <tr>\n",
       "      <th>4997</th>\n",
       "      <td>4998</td>\n",
       "      <td>26</td>\n",
       "      <td>F</td>\n",
       "      <td>98232.000000</td>\n",
       "      <td>62244.0</td>\n",
       "      <td>12</td>\n",
       "      <td>2</td>\n",
       "      <td>830</td>\n",
       "      <td>16</td>\n",
       "      <td>East</td>\n",
       "      <td>Single</td>\n",
       "      <td>Online</td>\n",
       "      <td>2024-05-03</td>\n",
       "      <td>992.05</td>\n",
       "      <td>3</td>\n",
       "    </tr>\n",
       "    <tr>\n",
       "      <th>4998</th>\n",
       "      <td>4999</td>\n",
       "      <td>53</td>\n",
       "      <td>F</td>\n",
       "      <td>59023.000000</td>\n",
       "      <td>19163.0</td>\n",
       "      <td>26</td>\n",
       "      <td>0</td>\n",
       "      <td>403</td>\n",
       "      <td>11</td>\n",
       "      <td>South</td>\n",
       "      <td>Married</td>\n",
       "      <td>In-Branch</td>\n",
       "      <td>2023-11-13</td>\n",
       "      <td>332.94</td>\n",
       "      <td>1</td>\n",
       "    </tr>\n",
       "    <tr>\n",
       "      <th>4999</th>\n",
       "      <td>5000</td>\n",
       "      <td>36</td>\n",
       "      <td>F</td>\n",
       "      <td>60209.000000</td>\n",
       "      <td>59019.0</td>\n",
       "      <td>17</td>\n",
       "      <td>4</td>\n",
       "      <td>631</td>\n",
       "      <td>18</td>\n",
       "      <td>North</td>\n",
       "      <td>Married</td>\n",
       "      <td>Online</td>\n",
       "      <td>2023-09-11</td>\n",
       "      <td>213.13</td>\n",
       "      <td>4</td>\n",
       "    </tr>\n",
       "  </tbody>\n",
       "</table>\n",
       "<p>5000 rows × 15 columns</p>\n",
       "</div>"
      ],
      "text/plain": [
       "      CustomerID  Age Gender         Income  AccountBalance  \\\n",
       "0              1   56      M  102421.000000         93590.0   \n",
       "1              2   69      F   90496.294105         86612.0   \n",
       "2              3   46      F   85584.000000         80522.0   \n",
       "3              4   32      M   39950.000000         14440.0   \n",
       "4              5   60      M   35173.000000          7960.0   \n",
       "...          ...  ...    ...            ...             ...   \n",
       "4995        4996   24      M   97711.000000         42889.0   \n",
       "4996        4997   66      F   77141.000000         14633.0   \n",
       "4997        4998   26      F   98232.000000         62244.0   \n",
       "4998        4999   53      F   59023.000000         19163.0   \n",
       "4999        5000   36      F   60209.000000         59019.0   \n",
       "\n",
       "      TransactionsLastMonth  Loans  CreditScore  Tenure BranchRegion  \\\n",
       "0                        19      1          394      10         West   \n",
       "1                        48      4          568       1         East   \n",
       "2                        13      2          660       5         West   \n",
       "3                        45      1          829      11         East   \n",
       "4                        34      4          461       9        North   \n",
       "...                     ...    ...          ...     ...          ...   \n",
       "4995                     31      0          407      18         East   \n",
       "4996                     32      0          623       4        North   \n",
       "4997                     12      2          830      16         East   \n",
       "4998                     26      0          403      11        South   \n",
       "4999                     17      4          631      18        North   \n",
       "\n",
       "     MaritalStatus PreferredChannel LastTransactionDate  AvgTransactionValue  \\\n",
       "0          Married           Online          2024-02-19               337.58   \n",
       "1           Single        In-Branch          2024-03-14               913.94   \n",
       "2           Single           Online          2024-04-21               116.06   \n",
       "3           Single       Mobile App          2024-03-07               746.48   \n",
       "4          Married       Mobile App          2024-01-13               583.56   \n",
       "...            ...              ...                 ...                  ...   \n",
       "4995        Single           Online          2024-01-21               306.28   \n",
       "4996       Married        In-Branch          2023-11-04               307.20   \n",
       "4997        Single           Online          2024-05-03               992.05   \n",
       "4998       Married        In-Branch          2023-11-13               332.94   \n",
       "4999       Married           Online          2023-09-11               213.13   \n",
       "\n",
       "      ProductHolding  \n",
       "0                  1  \n",
       "1                  3  \n",
       "2                  1  \n",
       "3                  1  \n",
       "4                  3  \n",
       "...              ...  \n",
       "4995               1  \n",
       "4996               4  \n",
       "4997               3  \n",
       "4998               1  \n",
       "4999               4  \n",
       "\n",
       "[5000 rows x 15 columns]"
      ]
     },
     "execution_count": 61,
     "metadata": {},
     "output_type": "execute_result"
    }
   ],
   "source": [
    "df"
   ]
  },
  {
   "cell_type": "code",
   "execution_count": 62,
   "id": "7f8a3574-4c8b-4970-a93a-21b991146f30",
   "metadata": {},
   "outputs": [
    {
     "data": {
      "text/html": [
       "<div>\n",
       "<style scoped>\n",
       "    .dataframe tbody tr th:only-of-type {\n",
       "        vertical-align: middle;\n",
       "    }\n",
       "\n",
       "    .dataframe tbody tr th {\n",
       "        vertical-align: top;\n",
       "    }\n",
       "\n",
       "    .dataframe thead th {\n",
       "        text-align: right;\n",
       "    }\n",
       "</style>\n",
       "<table border=\"1\" class=\"dataframe\">\n",
       "  <thead>\n",
       "    <tr style=\"text-align: right;\">\n",
       "      <th>BranchRegion</th>\n",
       "      <th>East</th>\n",
       "      <th>North</th>\n",
       "      <th>South</th>\n",
       "      <th>West</th>\n",
       "    </tr>\n",
       "    <tr>\n",
       "      <th>Gender</th>\n",
       "      <th></th>\n",
       "      <th></th>\n",
       "      <th></th>\n",
       "      <th></th>\n",
       "    </tr>\n",
       "  </thead>\n",
       "  <tbody>\n",
       "    <tr>\n",
       "      <th>F</th>\n",
       "      <td>620</td>\n",
       "      <td>613</td>\n",
       "      <td>643</td>\n",
       "      <td>638</td>\n",
       "    </tr>\n",
       "    <tr>\n",
       "      <th>M</th>\n",
       "      <td>640</td>\n",
       "      <td>610</td>\n",
       "      <td>630</td>\n",
       "      <td>606</td>\n",
       "    </tr>\n",
       "  </tbody>\n",
       "</table>\n",
       "</div>"
      ],
      "text/plain": [
       "BranchRegion  East  North  South  West\n",
       "Gender                                \n",
       "F              620    613    643   638\n",
       "M              640    610    630   606"
      ]
     },
     "execution_count": 62,
     "metadata": {},
     "output_type": "execute_result"
    }
   ],
   "source": [
    "pd.crosstab(df['Gender'],df['BranchRegion'])"
   ]
  },
  {
   "cell_type": "code",
   "execution_count": 64,
   "id": "b5177b27-1524-480d-9817-b53d9372ab6f",
   "metadata": {},
   "outputs": [
    {
     "data": {
      "text/html": [
       "<div>\n",
       "<style scoped>\n",
       "    .dataframe tbody tr th:only-of-type {\n",
       "        vertical-align: middle;\n",
       "    }\n",
       "\n",
       "    .dataframe tbody tr th {\n",
       "        vertical-align: top;\n",
       "    }\n",
       "\n",
       "    .dataframe thead th {\n",
       "        text-align: right;\n",
       "    }\n",
       "</style>\n",
       "<table border=\"1\" class=\"dataframe\">\n",
       "  <thead>\n",
       "    <tr style=\"text-align: right;\">\n",
       "      <th>BranchRegion</th>\n",
       "      <th>East</th>\n",
       "      <th>North</th>\n",
       "      <th>South</th>\n",
       "      <th>West</th>\n",
       "    </tr>\n",
       "    <tr>\n",
       "      <th>Gender</th>\n",
       "      <th></th>\n",
       "      <th></th>\n",
       "      <th></th>\n",
       "      <th></th>\n",
       "    </tr>\n",
       "  </thead>\n",
       "  <tbody>\n",
       "    <tr>\n",
       "      <th>F</th>\n",
       "      <td>49.206349</td>\n",
       "      <td>50.122649</td>\n",
       "      <td>50.510605</td>\n",
       "      <td>51.286174</td>\n",
       "    </tr>\n",
       "    <tr>\n",
       "      <th>M</th>\n",
       "      <td>50.793651</td>\n",
       "      <td>49.877351</td>\n",
       "      <td>49.489395</td>\n",
       "      <td>48.713826</td>\n",
       "    </tr>\n",
       "  </tbody>\n",
       "</table>\n",
       "</div>"
      ],
      "text/plain": [
       "BranchRegion       East      North      South       West\n",
       "Gender                                                  \n",
       "F             49.206349  50.122649  50.510605  51.286174\n",
       "M             50.793651  49.877351  49.489395  48.713826"
      ]
     },
     "execution_count": 64,
     "metadata": {},
     "output_type": "execute_result"
    }
   ],
   "source": [
    "pd.crosstab(df['Gender'],df['BranchRegion'],normalize='columns')*100"
   ]
  },
  {
   "cell_type": "code",
   "execution_count": 65,
   "id": "93a45bd9-fdb5-4be9-838b-f6fb485551c4",
   "metadata": {},
   "outputs": [
    {
     "data": {
      "text/plain": [
       "<Axes: xlabel='BranchRegion', ylabel='Gender'>"
      ]
     },
     "execution_count": 65,
     "metadata": {},
     "output_type": "execute_result"
    },
    {
     "data": {
      "image/png": "[encoded data removed]",
      "text/plain": [
       "<Figure size 640x480 with 2 Axes>"
      ]
     },
     "metadata": {},
     "output_type": "display_data"
    }
   ],
   "source": [
    "sns.heatmap(pd.crosstab(df['Gender'],df['BranchRegion'],normalize='columns')*100)"
   ]
  },
  {
   "cell_type": "code",
   "execution_count": null,
   "id": "02603a02-5f9c-411b-9d8f-33286274d73a",
   "metadata": {},
   "outputs": [],
   "source": []
  }
 ],
 "metadata": {
  "kernelspec": {
   "display_name": "Python 3 (ipykernel)",
   "language": "python",
   "name": "python3"
  },
  "language_info": {
   "codemirror_mode": {
    "name": "ipython",
    "version": 3
   },
   "file_extension": ".py",
   "mimetype": "text/x-python",
   "name": "python",
   "nbconvert_exporter": "python",
   "pygments_lexer": "ipython3",
   "version": "3.11.5"
  }
 },
 "nbformat": 4,
 "nbformat_minor": 5
}
